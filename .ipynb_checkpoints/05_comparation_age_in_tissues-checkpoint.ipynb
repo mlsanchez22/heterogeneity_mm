{
 "cells": [
  {
   "cell_type": "code",
   "execution_count": 2,
   "id": "e8d5bd21-3353-4495-ae8e-cf563a388544",
   "metadata": {},
   "outputs": [],
   "source": [
    "library(hipathia)\n",
    "library(ComplexHeatmap)\n",
    "library(circlize)\n",
    "library(ggplot2)\n",
    "library(corrplot)\n",
    "library(limma)\n",
    "library(ggvenn)\n",
    "library(tidyverse)\n",
    "library(reshape2)\n",
    "library(factoextra)"
   ]
  },
  {
   "cell_type": "code",
   "execution_count": 3,
   "id": "d1104195-4477-4f04-a896-32659bac0ce3",
   "metadata": {},
   "outputs": [
    {
     "name": "stderr",
     "output_type": "stream",
     "text": [
      "Warning message in scan(file = file, what = what, sep = sep, quote = quote, dec = dec, :\n",
      "“EOF within quoted string”\n",
      "Warning message in scan(file = file, what = what, sep = sep, quote = quote, dec = dec, :\n",
      "“number of items read is not a multiple of the number of columns”\n",
      "Loaded 146 pathways\n",
      "\n"
     ]
    }
   ],
   "source": [
    "annot_splattrib <- read.table(\"/mnt/lustre/scratch/CBRA/research/projects/heterogeneity_mm/data/GTEx_Analysis_v8_Annotations_SampleAttributesDS.txt\", sep=\"\\t\", header=T)\n",
    "pathvals_gtex <- readRDS(\"/mnt/lustre/scratch/CBRA/research/projects/heterogeneity_mm/results/00_mm_gtex/pathvals_gtexv8.rds\")\n",
    "annot_splattrib_comp <- annot_splattrib[annot_splattrib$SAMPID %in% colnames(pathvals_gtex),]\n",
    "annot_splattrib_comp <- annot_splattrib_comp[annot_splattrib_comp$SMTSD != \"\",]\n",
    "\n",
    "pathways <- load_pathways(\"hsa\")\n",
    "pathvals <- assay(pathvals_gtex)\n",
    "path_names <- get_path_names(pathways,rownames(pathvals))\n",
    "rownames(pathvals) <- path_names\n",
    "\n",
    "annot_subph <- read.table(\"/mnt/lustre/scratch/CBRA/research/projects/heterogeneity_mm/data/GTEx_Analysis_v8_Annotations_SubjectPhenotypesDS.txt\", sep=\"\\t\", header=T)\n",
    "rownames(annot_subph) <- annot_subph$SUBJID"
   ]
  },
  {
   "cell_type": "code",
   "execution_count": 4,
   "id": "a21e30f5-fd95-41ec-bd16-72d6b53999b9",
   "metadata": {},
   "outputs": [],
   "source": [
    "annot_splattrib_sl <- annot_splattrib[,c(\"SAMPID\",\"SMTS\",\"SMTSD\")]\n",
    "rownames(annot_splattrib_sl) <- annot_splattrib_sl$SAMPID\n",
    "\n",
    "comp_pat <- intersect(annot_splattrib_sl$SAMPID, colnames(pathvals))\n",
    "subjib_comp_pat <- paste(\"GTEX-\",unique(unlist(lapply(strsplit(comp_pat,\"-\", fixed=T), FUN=function(x) x[2]))), sep=\"\")\n",
    "\n",
    "annot_subph_comp <- annot_subph[subjib_comp_pat,]                                                                 \n",
    "list_patient <- lapply(annot_subph_comp$SUBJID, FUN=function(x) annot_splattrib_sl$SAMPID[grep(x, annot_splattrib_sl$SAMPID)])\n",
    "list_sex <- do.call(list,lapply(1:length(annot_subph_comp$SEX), function(x) rep(annot_subph_comp$SEX[x],length(unlist(list_patient[x])))))                       \n",
    "list_age <- do.call(list,lapply(1:length(annot_subph_comp$AGE), function(x) rep(annot_subph_comp$AGE[x],length(unlist(list_patient[x])))))   \n",
    "pat_sex_age <- data.frame(patients = unlist(list_patient),\n",
    "                                   sex = unlist(list_sex),\n",
    "                                   age = unlist(list_age))\n",
    "rownames(pat_sex_age) <- pat_sex_age$patients\n",
    "\n",
    "pat_sex_age_comp <- pat_sex_age[comp_pat,]\n",
    "pat_sex_age_comp$sex[which(pat_sex_age_comp$sex == 2)] <- \"female\"\n",
    "pat_sex_age_comp$sex[which(pat_sex_age_comp$sex == 1)] <- \"male\"\n",
    "pat_sex_age_comp$tissue <- annot_splattrib_sl[pat_sex_age_comp$patients,\"SMTS\"]                                \n",
    "pat_sex_age_comp$tissue_zone <- annot_splattrib_sl[pat_sex_age_comp$patients,\"SMTSD\"] \n",
    "annot_comp <- pat_sex_age_comp[,c(\"patients\",\"age\",\"sex\",\"tissue\",\"tissue_zone\")]    \n",
    "annot_comp <- annot_comp[annot_comp$tissue_zone != \"\",]"
   ]
  },
  {
   "cell_type": "code",
   "execution_count": 5,
   "id": "3023950a-b4a6-4fd7-961a-3aee361695ff",
   "metadata": {},
   "outputs": [],
   "source": [
    "pat_sex_age_comp$agrup_interv <- rep(\"-\", length(pat_sex_age_comp$age))\n",
    "pat_sex_age_comp$agrup_interv[which(pat_sex_age_comp$age == \"20-29\")] <- \"20-39\"\n",
    "pat_sex_age_comp$agrup_interv[which(pat_sex_age_comp$age == \"30-39\")] <- \"20-39\"\n",
    "pat_sex_age_comp$agrup_interv[which(pat_sex_age_comp$age == \"40-49\")] <- \"40-59\"\n",
    "pat_sex_age_comp$agrup_interv[which(pat_sex_age_comp$age == \"50-59\")] <- \"40-59\"\n",
    "pat_sex_age_comp$agrup_interv[which(pat_sex_age_comp$age == \"60-69\")] <- \"60-79\"\n",
    "pat_sex_age_comp$agrup_interv[which(pat_sex_age_comp$age == \"70-79\")] <- \"60-79\"\n",
    "\n",
    "#pat_sex_age_comp <- pat_sex_age_comp[-c(which(pat_sex_age_comp$tissue_zone == 'Cells - Cultured fibroblasts'), which(pat_sex_age_comp$tissue_zone == 'Cells - EBV-transformed lymphocytes')),]"
   ]
  },
  {
   "cell_type": "code",
   "execution_count": 6,
   "id": "378eb898-f7b8-4197-beaf-d28753259b26",
   "metadata": {},
   "outputs": [],
   "source": [
    "pat_sex_age_comp <- pat_sex_age_comp[-c(which(pat_sex_age_comp$tissue_zone == 'Cells - Cultured fibroblasts'),\n",
    "which(pat_sex_age_comp$tissue_zone == 'Cells - EBV-transformed lymphocytes')),]"
   ]
  },
  {
   "cell_type": "code",
   "execution_count": 7,
   "id": "3fe9242d-a69f-48d9-93a7-0478bebd0f3a",
   "metadata": {},
   "outputs": [],
   "source": [
    "annot_comp_fcells <- annot_comp[-c(which(annot_comp$tissue_zone == 'Cells - Cultured fibroblasts'), which(annot_comp$tissue_zone == 'Cells - EBV-transformed lymphocytes')),]\n",
    "pathvals_fcells <- pathvals[,annot_comp[-c(which(annot_comp$tissue_zone == 'Cells - Cultured fibroblasts'), which(annot_comp$tissue_zone == 'Cells - EBV-transformed lymphocytes')),\"patients\"]]\n",
    "\n",
    "physiological_paths <- read.table(\"/mnt/lustre/scratch/CBRA/research/projects/heterogeneity_mm/data/physiological_paths.tsv\", sep=\"\\t\") \n",
    "pathvals_fcells_phys <- pathvals_fcells[unlist(lapply(physiological_paths$V1, FUN=function(x) grep(x,rownames(pathvals_fcells)))),]"
   ]
  },
  {
   "cell_type": "code",
   "execution_count": 8,
   "id": "5d4f9d45-6b34-4c8b-85c1-4a0fda4819f2",
   "metadata": {},
   "outputs": [
    {
     "name": "stderr",
     "output_type": "stream",
     "text": [
      "\u001b[1m\u001b[22m`summarise()` has grouped output by 'tissue'. You can override using the\n",
      "`.groups` argument.\n"
     ]
    }
   ],
   "source": [
    "tissues_comp_age <- data.frame(pat_sex_age_comp %>% group_by(tissue,agrup_interv) %>% summarise(n=n()) %>% filter(n>1) %>% group_by(tissue) %>% summarise(n=n())%>% filter(n==3))$tissue"
   ]
  },
  {
   "cell_type": "code",
   "execution_count": 9,
   "id": "2c78bc1e-9558-4b76-b6e1-bc0376095384",
   "metadata": {},
   "outputs": [
    {
     "name": "stderr",
     "output_type": "stream",
     "text": [
      "Warning message:\n",
      "“\u001b[1m\u001b[22mThe `<scale>` argument of `guides()` cannot be `FALSE`. Use \"none\" instead as\n",
      "of ggplot2 3.3.4.\n",
      "\u001b[36mℹ\u001b[39m The deprecated feature was likely used in the \u001b[34mfactoextra\u001b[39m package.\n",
      "  Please report the issue at \u001b[3m\u001b[34m<https://github.com/kassambara/factoextra/issues>\u001b[39m\u001b[23m.”\n"
     ]
    },
    {
     "data": {
      "text/html": [
       "<strong>png:</strong> 2"
      ],
      "text/latex": [
       "\\textbf{png:} 2"
      ],
      "text/markdown": [
       "**png:** 2"
      ],
      "text/plain": [
       "png \n",
       "  2 "
      ]
     },
     "metadata": {},
     "output_type": "display_data"
    }
   ],
   "source": [
    "pat_sex_age_comp_20_39 <- pat_sex_age_comp %>% filter(agrup_interv == \"20-39\")\n",
    "\n",
    "pathvals_mean_20_39 <- as.data.frame(lapply(tissues_comp_age, function(x) apply(pathvals_fcells_phys[,pat_sex_age_comp_20_39[which(pat_sex_age_comp_20_39$tissue == x),\"patients\"]], 1, mean)))\n",
    "colnames(pathvals_mean_20_39) <- tissues_comp_age\n",
    "rownames(pathvals_mean_20_39) <- rownames(pathvals_fcells_phys)      \n",
    "\n",
    "jpeg(\"/mnt/lustre/scratch/CBRA/research/projects/heterogeneity_mm/results/05_comparation_age_in_tissues/cluster_comparation_age_20_39_tissues.jpeg\", quality = 100, width = 600, height = 400)                                            \n",
    "dist_20_39 <- dist(t(pathvals_mean_20_39),method=\"euclidean\")\n",
    "hc1_20_39 <- hclust(dist_20_39, method = \"complete\" )\n",
    "#plot(hc1_20_39, col = \"#487AA1\", col.main = \"#45ADA8\", col.lab = \"#7C8071\", cex = 1,\n",
    "#    col.axis = \"#F38630\", lwd = 2, lty = 2, sub = \"\", hang = -1, axes = FALSE, main=\"\")                                              \n",
    "fviz_dend(hc1_20_39, cex = 0.8, k=7, \n",
    "          rect = TRUE,  \n",
    "          k_colors = \"aaas\",\n",
    "          rect_border = \"aaas\", \n",
    "          rect_fill = TRUE, \n",
    "          horiz = TRUE, main=NULL)                                             \n",
    "dev.off()                                            "
   ]
  },
  {
   "cell_type": "code",
   "execution_count": 10,
   "id": "d63f932b-877b-476b-b638-93d88b428d3e",
   "metadata": {},
   "outputs": [
    {
     "data": {
      "text/html": [
       "<strong>png:</strong> 2"
      ],
      "text/latex": [
       "\\textbf{png:} 2"
      ],
      "text/markdown": [
       "**png:** 2"
      ],
      "text/plain": [
       "png \n",
       "  2 "
      ]
     },
     "metadata": {},
     "output_type": "display_data"
    }
   ],
   "source": [
    "pat_sex_age_comp_40_59 <- pat_sex_age_comp %>% filter(agrup_interv == \"40-59\")\n",
    "\n",
    "pathvals_mean_40_59 <- as.data.frame(lapply(tissues_comp_age, function(x) apply(pathvals_fcells_phys[,pat_sex_age_comp_40_59[which(pat_sex_age_comp_40_59$tissue == x),\"patients\"]], 1, mean)))\n",
    "colnames(pathvals_mean_40_59) <- tissues_comp_age\n",
    "rownames(pathvals_mean_40_59) <- rownames(pathvals_fcells_phys)      \n",
    "\n",
    "jpeg(\"/mnt/lustre/scratch/CBRA/research/projects/heterogeneity_mm/results/05_comparation_age_in_tissues/cluster_comparation_age_40_59_tissues.jpeg\", quality = 100, width = 600, height = 400)                                                                                        \n",
    "dist_40_59 <- dist(t(pathvals_mean_40_59),method=\"euclidean\")\n",
    "hc1_40_59 <- hclust(dist_40_59, method = \"complete\" )\n",
    "#plot(hc1_40_59, col = \"#487AA1\", col.main = \"#45ADA8\", col.lab = \"#7C8071\", cex = 1,\n",
    "#    col.axis = \"#F38630\", lwd = 2, lty = 2, sub = \"\", hang = -1, axes = FALSE, main=\"\")                                                                                          \n",
    "fviz_dend(hc1_40_59, cex = 0.8, k=7, \n",
    "          rect = TRUE,  \n",
    "          k_colors = \"aaas\",\n",
    "          rect_border = \"aaas\", \n",
    "          rect_fill = TRUE, \n",
    "          horiz = TRUE, main=NULL)                                              \n",
    "dev.off()                                            "
   ]
  },
  {
   "cell_type": "code",
   "execution_count": 11,
   "id": "cf2190ee-1de9-4b0d-a8bc-070f747b96ad",
   "metadata": {},
   "outputs": [
    {
     "data": {
      "text/html": [
       "<strong>png:</strong> 2"
      ],
      "text/latex": [
       "\\textbf{png:} 2"
      ],
      "text/markdown": [
       "**png:** 2"
      ],
      "text/plain": [
       "png \n",
       "  2 "
      ]
     },
     "metadata": {},
     "output_type": "display_data"
    }
   ],
   "source": [
    "pat_sex_age_comp_60_79 <- pat_sex_age_comp %>% filter(agrup_interv == \"60-79\")\n",
    "\n",
    "pathvals_mean_60_79 <- as.data.frame(lapply(tissues_comp_age, function(x) apply(pathvals_fcells_phys[,pat_sex_age_comp_60_79[which(pat_sex_age_comp_60_79$tissue == x),\"patients\"]], 1, mean)))\n",
    "colnames(pathvals_mean_60_79) <- tissues_comp_age\n",
    "rownames(pathvals_mean_60_79) <- rownames(pathvals_fcells_phys)      \n",
    "\n",
    "jpeg(\"/mnt/lustre/scratch/CBRA/research/projects/heterogeneity_mm/results/05_comparation_age_in_tissues/cluster_comparation_age_60_79_tissues.jpeg\", quality = 100, width = 600, height = 400)                                                                                                                                    \n",
    "dist_60_79 <- dist(t(pathvals_mean_60_79),method=\"euclidean\")\n",
    "hc1_60_79 <- hclust(dist_60_79, method = \"complete\" )\n",
    "#plot(hc1_60_79, col = \"#487AA1\", col.main = \"#45ADA8\", col.lab = \"#7C8071\", cex = 1,\n",
    "#    col.axis = \"#F38630\", lwd = 2, lty = 2, sub = \"\", hang = -1, axes = FALSE, main=\"\")       \n",
    "fviz_dend(hc1_60_79, cex = 0.8, k=10, \n",
    "          rect = TRUE,  \n",
    "          k_colors = \"aaas\",\n",
    "          rect_border = \"aaas\", \n",
    "          rect_fill = TRUE, \n",
    "          horiz = TRUE, main=NULL)                                            \n",
    "dev.off()                                            "
   ]
  },
  {
   "cell_type": "code",
   "execution_count": 12,
   "id": "abf1ead4-5a2c-45c2-8b9c-c0e6140f4cfd",
   "metadata": {},
   "outputs": [
    {
     "name": "stderr",
     "output_type": "stream",
     "text": [
      "\u001b[1m\u001b[22m`summarise()` has grouped output by 'tissue'. You can override using the\n",
      "`.groups` argument.\n"
     ]
    }
   ],
   "source": [
    "tissues_comp_age <- data.frame(pat_sex_age_comp %>% group_by(tissue,agrup_interv) %>% summarise(n=n()) %>% filter(n>1) %>% group_by(tissue) %>% summarise(n=n())%>% filter(n==3))$tissue"
   ]
  },
  {
   "cell_type": "code",
   "execution_count": 13,
   "id": "4c153992-f9a6-4303-8241-4dae709196e2",
   "metadata": {
    "scrolled": true
   },
   "outputs": [],
   "source": [
    "turkey_age_funct <- function(x){\n",
    "    patients <- pat_sex_age_comp[which(x == pat_sex_age_comp$tissue),\"patients\"]\n",
    "    tissue <- pat_sex_age_comp[which(x == pat_sex_age_comp$tissue),\"agrup_interv\"]  \n",
    "    t_pathvals_patients <- data.frame(t(pathvals_fcells_phys[,patients]))\n",
    "    t_pathvals_patients$type <- tissue\n",
    "                         \n",
    "    formulae <- lapply(colnames(t_pathvals_patients)[1:ncol(t_pathvals_patients)-1], function(x) as.formula(paste0(x, \" ~ type\")))       \n",
    "    res <- lapply(formulae, function(x) summary(aov(x, data=t_pathvals_patients)))\n",
    "    names(res) <- format(formulae)\n",
    "    p.value <- unlist(lapply(res, function(x) x[[1]]$\"Pr(>F)\"[1]))\n",
    "    p.value_adjust <- p.adjust(p.value, method=\"fdr\", n=length(p.value))\n",
    "    names(p.value_adjust) <- colnames(t_pathvals_patients)[1:ncol(t_pathvals_patients)-1]     \n",
    "    if (length(na.omit(names(p.value_adjust)[p.value_adjust < 0.05]))>1){\n",
    "    t_pathvals_anova_sign <- t_pathvals_patients[,na.omit(names(p.value_adjust)[p.value_adjust < 0.05])]\n",
    "    t_pathvals_anova_sign$type <- t_pathvals_patients$type\n",
    "    formulae <- lapply(colnames(t_pathvals_anova_sign)[1:ncol(t_pathvals_anova_sign)-1], function(x) as.formula(paste0(x, \" ~ type\")))       \n",
    "    res2 <- lapply(formulae, function(x) TukeyHSD(aov(x, data=t_pathvals_anova_sign)))\n",
    "    pvadj_turkey <- do.call(rbind, lapply(1:length(res2), function(x) res2[[x]]$type[,4]))\n",
    "    rownames(pvadj_turkey) <- colnames(t_pathvals_anova_sign)[1:ncol(t_pathvals_anova_sign)-1]\n",
    "\n",
    "    pvadj_turkey_numeric <- data.frame(t(apply(pvadj_turkey < 0.05,1,as.integer)))\n",
    "    rownames(pvadj_turkey_numeric) <- rownames(pvadj_turkey)\n",
    "    colnames(pvadj_turkey_numeric) <- colnames(pvadj_turkey)   \n",
    "    pvadj_turkey_numeric$tissue <- rep(x, length(pvadj_turkey_numeric[,1]))\n",
    "    pvadj_turkey_numeric$circ <- rownames(pvadj_turkey_numeric)\n",
    "                                            \n",
    "    return(pvadj_turkey_numeric)   \n",
    "    }\n",
    "}"
   ]
  },
  {
   "cell_type": "code",
   "execution_count": 16,
   "id": "6db65af0-2c76-49da-9833-8d9718dd9f2a",
   "metadata": {},
   "outputs": [
    {
     "name": "stderr",
     "output_type": "stream",
     "text": [
      "Using tissue, circ as id variables\n",
      "\n"
     ]
    }
   ],
   "source": [
    "turkey_results <- do.call(rbind,lapply(tissues_comp_age, turkey_age_funct))                                        \n",
    "\n",
    "turkey_graph <- melt(turkey_results)\n",
    "\n",
    "turkey_graph_f <- unique(data.frame(turkey_graph %>% filter(value==1)))\n",
    "\n",
    "turkey_graph_f$contract <- unlist(lapply(1:length(turkey_graph_f$tissue), FUN=function(x)\n",
    "paste(turkey_graph_f[intersect(which(turkey_graph_f$tissue[x] == turkey_graph_f$tissue),\n",
    "which(turkey_graph_f$circ[x] == turkey_graph_f$circ)),\"variable\"],collapse=\", \")))\n",
    "\n",
    "turkey_graph_f_sel <- turkey_graph_f[turkey_graph_f$contract %in% c(\"40-59-20-39\", \"40-59-20-39, 60-79-40-59\", \"60-79-40-59\"),]\n",
    "turkey_graph_f_sel$circ_graph <- gsub(\"NOD like\",\"NOD-like\",gsub(\"ARPC5 ACTB \",\"ARPC5 ACTB*\",gsub(\"HIF 1\",\"HIF-1\",gsub(\"PI3K Akt\",\"PI3K-Akt\",gsub(\"TRPM8 \",\"TRPM8*\",gsub(\"GLI1 SUFU \",\"GLI1 SUFU*\", gsub(\"pathway:  mammal\",\"pathway - mammal\",gsub(\"cGMP PKG\", \"cGMP-PKG\", gsub(\".\",\" \",gsub(\"..\",\": \",turkey_graph_f_sel$circ, fixed=T), fixed=T)))))))))\n",
    "turkey_graph_f_sel$graph <- rep(\"-\", length(turkey_graph_f_sel$contract))\n",
    "\n",
    "turkey_graph_f_sel$graph[which(turkey_graph_f_sel$contract == \"40-59-20-39\")] <- \"jo_ad\"\n",
    "turkey_graph_f_sel$graph[which(turkey_graph_f_sel$contract == \"60-79-40-59\")] <- \"ad_se\"\n",
    "turkey_graph_f_sel$graph[which(turkey_graph_f_sel$contract == \"40-59-20-39, 60-79-40-59\")] <- \"jo_ad_se\"\n",
    "\n",
    "\n",
    "category_colors <- c(\"jo_ad\" = \"#F39B7F\", \"ad_se\" = \"#E01E26\", \"jo_ad_se\" = \"#A73030\")\n",
    "\n",
    "                                                     \n"
   ]
  },
  {
   "cell_type": "code",
   "execution_count": 19,
   "id": "7a004c96-9439-40e2-bd66-f475a5f6feb1",
   "metadata": {},
   "outputs": [
    {
     "data": {
      "text/html": [
       "<strong>png:</strong> 2"
      ],
      "text/latex": [
       "\\textbf{png:} 2"
      ],
      "text/markdown": [
       "**png:** 2"
      ],
      "text/plain": [
       "png \n",
       "  2 "
      ]
     },
     "metadata": {},
     "output_type": "display_data"
    }
   ],
   "source": [
    "jpeg(\"/mnt/lustre/scratch/CBRA/research/projects/heterogeneity_mm/results/05_comparation_age_in_tissues/heatmap_comparation_age_tissues.jpeg\", quality = 100, width = 600, height = 800)                                                                                                                                    \n",
    "turkey_graph_f_sel %>% ggplot(aes(x= tissue, y = circ_graph, fill = graph)) +\n",
    "  geom_tile() +\n",
    "  scale_x_discrete(name=\"Tissues\",expand = expansion(mult = c(0,0)), guide = guide_axis(angle = 90))+ theme_minimal() + \n",
    "                                         theme(axis.text.y= element_text(size=12), axis.text.x = element_text(size=12)) + scale_y_discrete(name=\"Cellular signaling circuits\") + ggtitle(\"\") + \n",
    "                                         scale_fill_manual(values = category_colors, name=\"Age Groups\")                                                  \n",
    "dev.off()                                                     "
   ]
  }
 ],
 "metadata": {
  "kernelspec": {
   "display_name": "R",
   "language": "R",
   "name": "ir"
  },
  "language_info": {
   "codemirror_mode": "r",
   "file_extension": ".r",
   "mimetype": "text/x-r-source",
   "name": "R",
   "pygments_lexer": "r",
   "version": "4.3.2"
  }
 },
 "nbformat": 4,
 "nbformat_minor": 5
}
