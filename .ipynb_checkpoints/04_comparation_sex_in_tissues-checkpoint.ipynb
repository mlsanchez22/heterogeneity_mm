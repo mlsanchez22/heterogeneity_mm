{
 "cells": [
  {
   "cell_type": "code",
   "execution_count": 1,
   "id": "3d9ac3d7-235a-465f-af5e-1bc76cae27ba",
   "metadata": {
    "scrolled": true
   },
   "outputs": [
    {
     "name": "stderr",
     "output_type": "stream",
     "text": [
      "Loading required package: igraph\n",
      "\n",
      "\n",
      "Attaching package: ‘igraph’\n",
      "\n",
      "\n",
      "The following objects are masked from ‘package:stats’:\n",
      "\n",
      "    decompose, spectrum\n",
      "\n",
      "\n",
      "The following object is masked from ‘package:base’:\n",
      "\n",
      "    union\n",
      "\n",
      "\n",
      "Loading required package: AnnotationHub\n",
      "\n",
      "Loading required package: BiocGenerics\n",
      "\n",
      "\n",
      "Attaching package: ‘BiocGenerics’\n",
      "\n",
      "\n",
      "The following objects are masked from ‘package:igraph’:\n",
      "\n",
      "    normalize, path, union\n",
      "\n",
      "\n",
      "The following objects are masked from ‘package:stats’:\n",
      "\n",
      "    IQR, mad, sd, var, xtabs\n",
      "\n",
      "\n",
      "The following objects are masked from ‘package:base’:\n",
      "\n",
      "    anyDuplicated, aperm, append, as.data.frame, basename, cbind,\n",
      "    colnames, dirname, do.call, duplicated, eval, evalq, Filter, Find,\n",
      "    get, grep, grepl, intersect, is.unsorted, lapply, Map, mapply,\n",
      "    match, mget, order, paste, pmax, pmax.int, pmin, pmin.int,\n",
      "    Position, rank, rbind, Reduce, rownames, sapply, setdiff, sort,\n",
      "    table, tapply, union, unique, unsplit, which.max, which.min\n",
      "\n",
      "\n",
      "Loading required package: BiocFileCache\n",
      "\n",
      "Loading required package: dbplyr\n",
      "\n",
      "Loading required package: MultiAssayExperiment\n",
      "\n",
      "Loading required package: SummarizedExperiment\n",
      "\n",
      "Loading required package: MatrixGenerics\n",
      "\n",
      "Loading required package: matrixStats\n",
      "\n",
      "\n",
      "Attaching package: ‘MatrixGenerics’\n",
      "\n",
      "\n",
      "The following objects are masked from ‘package:matrixStats’:\n",
      "\n",
      "    colAlls, colAnyNAs, colAnys, colAvgsPerRowSet, colCollapse,\n",
      "    colCounts, colCummaxs, colCummins, colCumprods, colCumsums,\n",
      "    colDiffs, colIQRDiffs, colIQRs, colLogSumExps, colMadDiffs,\n",
      "    colMads, colMaxs, colMeans2, colMedians, colMins, colOrderStats,\n",
      "    colProds, colQuantiles, colRanges, colRanks, colSdDiffs, colSds,\n",
      "    colSums2, colTabulates, colVarDiffs, colVars, colWeightedMads,\n",
      "    colWeightedMeans, colWeightedMedians, colWeightedSds,\n",
      "    colWeightedVars, rowAlls, rowAnyNAs, rowAnys, rowAvgsPerColSet,\n",
      "    rowCollapse, rowCounts, rowCummaxs, rowCummins, rowCumprods,\n",
      "    rowCumsums, rowDiffs, rowIQRDiffs, rowIQRs, rowLogSumExps,\n",
      "    rowMadDiffs, rowMads, rowMaxs, rowMeans2, rowMedians, rowMins,\n",
      "    rowOrderStats, rowProds, rowQuantiles, rowRanges, rowRanks,\n",
      "    rowSdDiffs, rowSds, rowSums2, rowTabulates, rowVarDiffs, rowVars,\n",
      "    rowWeightedMads, rowWeightedMeans, rowWeightedMedians,\n",
      "    rowWeightedSds, rowWeightedVars\n",
      "\n",
      "\n",
      "Loading required package: GenomicRanges\n",
      "\n",
      "Loading required package: stats4\n",
      "\n",
      "Loading required package: S4Vectors\n",
      "\n",
      "\n",
      "Attaching package: ‘S4Vectors’\n",
      "\n",
      "\n",
      "The following object is masked from ‘package:utils’:\n",
      "\n",
      "    findMatches\n",
      "\n",
      "\n",
      "The following objects are masked from ‘package:base’:\n",
      "\n",
      "    expand.grid, I, unname\n",
      "\n",
      "\n",
      "Loading required package: IRanges\n",
      "\n",
      "Loading required package: GenomeInfoDb\n",
      "\n",
      "Loading required package: Biobase\n",
      "\n",
      "Welcome to Bioconductor\n",
      "\n",
      "    Vignettes contain introductory material; view with\n",
      "    'browseVignettes()'. To cite Bioconductor, see\n",
      "    'citation(\"Biobase\")', and for packages 'citation(\"pkgname\")'.\n",
      "\n",
      "\n",
      "\n",
      "Attaching package: ‘Biobase’\n",
      "\n",
      "\n",
      "The following object is masked from ‘package:MatrixGenerics’:\n",
      "\n",
      "    rowMedians\n",
      "\n",
      "\n",
      "The following objects are masked from ‘package:matrixStats’:\n",
      "\n",
      "    anyMissing, rowMedians\n",
      "\n",
      "\n",
      "The following object is masked from ‘package:AnnotationHub’:\n",
      "\n",
      "    cache\n",
      "\n",
      "\n",
      "========================================\n",
      "circlize version 0.4.15\n",
      "CRAN page: https://cran.r-project.org/package=circlize\n",
      "Github page: https://github.com/jokergoo/circlize\n",
      "Documentation: https://jokergoo.github.io/circlize_book/book/\n",
      "\n",
      "If you use it in published research, please cite:\n",
      "Gu, Z. circlize implements and enhances circular visualization\n",
      "  in R. Bioinformatics 2014.\n",
      "\n",
      "This message can be suppressed by:\n",
      "  suppressPackageStartupMessages(library(circlize))\n",
      "========================================\n",
      "\n",
      "\n",
      "\n",
      "Attaching package: ‘circlize’\n",
      "\n",
      "\n",
      "The following object is masked from ‘package:igraph’:\n",
      "\n",
      "    degree\n",
      "\n",
      "\n",
      "Loading required package: grid\n",
      "\n",
      "========================================\n",
      "ComplexHeatmap version 2.18.0\n",
      "Bioconductor page: http://bioconductor.org/packages/ComplexHeatmap/\n",
      "Github page: https://github.com/jokergoo/ComplexHeatmap\n",
      "Documentation: http://jokergoo.github.io/ComplexHeatmap-reference\n",
      "\n",
      "If you use it in published research, please cite either one:\n",
      "- Gu, Z. Complex Heatmap Visualization. iMeta 2022.\n",
      "- Gu, Z. Complex heatmaps reveal patterns and correlations in multidimensional \n",
      "    genomic data. Bioinformatics 2016.\n",
      "\n",
      "\n",
      "The new InteractiveComplexHeatmap package can directly export static \n",
      "complex heatmaps into an interactive Shiny app with zero effort. Have a try!\n",
      "\n",
      "This message can be suppressed by:\n",
      "  suppressPackageStartupMessages(library(ComplexHeatmap))\n",
      "========================================\n",
      "\n",
      "\n",
      "Warning message:\n",
      "“package ‘ggplot2’ was built under R version 4.3.3”\n",
      "corrplot 0.92 loaded\n",
      "\n",
      "\n",
      "Attaching package: ‘dplyr’\n",
      "\n",
      "\n",
      "The following object is masked from ‘package:Biobase’:\n",
      "\n",
      "    combine\n",
      "\n",
      "\n",
      "The following objects are masked from ‘package:GenomicRanges’:\n",
      "\n",
      "    intersect, setdiff, union\n",
      "\n",
      "\n",
      "The following object is masked from ‘package:GenomeInfoDb’:\n",
      "\n",
      "    intersect\n",
      "\n",
      "\n",
      "The following objects are masked from ‘package:IRanges’:\n",
      "\n",
      "    collapse, desc, intersect, setdiff, slice, union\n",
      "\n",
      "\n",
      "The following objects are masked from ‘package:S4Vectors’:\n",
      "\n",
      "    first, intersect, rename, setdiff, setequal, union\n",
      "\n",
      "\n",
      "The following object is masked from ‘package:matrixStats’:\n",
      "\n",
      "    count\n",
      "\n",
      "\n",
      "The following objects are masked from ‘package:dbplyr’:\n",
      "\n",
      "    ident, sql\n",
      "\n",
      "\n",
      "The following objects are masked from ‘package:BiocGenerics’:\n",
      "\n",
      "    combine, intersect, setdiff, union\n",
      "\n",
      "\n",
      "The following objects are masked from ‘package:igraph’:\n",
      "\n",
      "    as_data_frame, groups, union\n",
      "\n",
      "\n",
      "The following objects are masked from ‘package:stats’:\n",
      "\n",
      "    filter, lag\n",
      "\n",
      "\n",
      "The following objects are masked from ‘package:base’:\n",
      "\n",
      "    intersect, setdiff, setequal, union\n",
      "\n",
      "\n",
      "\n",
      "Attaching package: ‘limma’\n",
      "\n",
      "\n",
      "The following object is masked from ‘package:BiocGenerics’:\n",
      "\n",
      "    plotMA\n",
      "\n",
      "\n",
      "Welcome! Want to learn more? See two factoextra-related books at https://goo.gl/ve3WBa\n",
      "\n"
     ]
    }
   ],
   "source": [
    "library(hipathia)\n",
    "library(circlize)\n",
    "library(ComplexHeatmap)\n",
    "library(ggplot2)\n",
    "library(corrplot)\n",
    "library(hipathia)\n",
    "library(reshape2)\n",
    "library(dplyr)\n",
    "library(ggdendro)\n",
    "library(limma)\n",
    "library(factoextra)"
   ]
  },
  {
   "cell_type": "code",
   "execution_count": 90,
   "id": "52bd51a6-5d6d-4519-a976-dce808c254ba",
   "metadata": {},
   "outputs": [],
   "source": [
    "### get data and annotations"
   ]
  },
  {
   "cell_type": "code",
   "execution_count": 91,
   "id": "d5549a6e-439f-4b50-b88b-c871c91b16ba",
   "metadata": {},
   "outputs": [
    {
     "name": "stderr",
     "output_type": "stream",
     "text": [
      "Warning message in scan(file = file, what = what, sep = sep, quote = quote, dec = dec, :\n",
      "“EOF within quoted string”\n",
      "Warning message in scan(file = file, what = what, sep = sep, quote = quote, dec = dec, :\n",
      "“number of items read is not a multiple of the number of columns”\n",
      "Loaded 146 pathways\n",
      "\n"
     ]
    }
   ],
   "source": [
    "annot_splattrib <- read.table(\"/mnt/lustre/scratch/CBRA/research/projects/heterogeneity_mm/data/GTEx_Analysis_v8_Annotations_SampleAttributesDS.txt\", sep=\"\\t\", header=T)\n",
    "pathvals_gtex <- readRDS(\"/mnt/lustre/scratch/CBRA/research/projects/heterogeneity_mm/results/00_mm_gtex/pathvals_gtexv8.rds\")\n",
    "annot_splattrib_comp <- annot_splattrib[annot_splattrib$SAMPID %in% colnames(pathvals_gtex),]\n",
    "annot_splattrib_comp <- annot_splattrib_comp[annot_splattrib_comp$SMTSD != \"\",]\n",
    "\n",
    "pathways <- load_pathways(\"hsa\")\n",
    "pathvals <- assay(pathvals_gtex)\n",
    "path_names <- get_path_names(pathways,rownames(pathvals))\n",
    "rownames(pathvals) <- path_names\n",
    "\n",
    "annot_subph <- read.table(\"/mnt/lustre/scratch/CBRA/research/projects/heterogeneity_mm/data/GTEx_Analysis_v8_Annotations_SubjectPhenotypesDS.txt\", sep=\"\\t\", header=T)\n",
    "rownames(annot_subph) <- annot_subph$SUBJID"
   ]
  },
  {
   "cell_type": "code",
   "execution_count": 92,
   "id": "ae99cbe9-a976-4c81-bf06-6499b4d174ab",
   "metadata": {},
   "outputs": [],
   "source": [
    "annot_splattrib_sl <- annot_splattrib[,c(\"SAMPID\",\"SMTS\",\"SMTSD\")]\n",
    "rownames(annot_splattrib_sl) <- annot_splattrib_sl$SAMPID\n",
    "\n",
    "comp_pat <- intersect(annot_splattrib_sl$SAMPID, colnames(pathvals))\n",
    "subjib_comp_pat <- paste(\"GTEX-\",unique(unlist(lapply(strsplit(comp_pat,\"-\", fixed=T), FUN=function(x) x[2]))), sep=\"\")\n",
    "\n",
    "annot_subph_comp <- annot_subph[subjib_comp_pat,]                                                                 \n",
    "list_patient <- lapply(annot_subph_comp$SUBJID, FUN=function(x) annot_splattrib_sl$SAMPID[grep(x, annot_splattrib_sl$SAMPID)])\n",
    "list_sex <- do.call(list,lapply(1:length(annot_subph_comp$SEX), function(x) rep(annot_subph_comp$SEX[x],length(unlist(list_patient[x])))))                       \n",
    "list_age <- do.call(list,lapply(1:length(annot_subph_comp$AGE), function(x) rep(annot_subph_comp$AGE[x],length(unlist(list_patient[x])))))   \n",
    "pat_sex_age <- data.frame(patients = unlist(list_patient),\n",
    "                                   sex = unlist(list_sex),\n",
    "                                   age = unlist(list_age))\n",
    "rownames(pat_sex_age) <- pat_sex_age$patients\n",
    "\n",
    "pat_sex_age_comp <- pat_sex_age[comp_pat,]\n",
    "pat_sex_age_comp$sex[which(pat_sex_age_comp$sex == 2)] <- \"female\"\n",
    "pat_sex_age_comp$sex[which(pat_sex_age_comp$sex == 1)] <- \"male\"\n",
    "pat_sex_age_comp$tissue <- annot_splattrib_sl[pat_sex_age_comp$patients,\"SMTS\"]                                \n",
    "pat_sex_age_comp$tissue_zone <- annot_splattrib_sl[pat_sex_age_comp$patients,\"SMTSD\"] \n",
    "annot_comp <- pat_sex_age_comp[,c(\"patients\",\"age\",\"sex\",\"tissue\",\"tissue_zone\")]    \n",
    "annot_comp <- annot_comp[annot_comp$tissue_zone != \"\",]"
   ]
  },
  {
   "cell_type": "code",
   "execution_count": 93,
   "id": "b30d9790-aa83-4d17-89b1-84be109baa56",
   "metadata": {},
   "outputs": [],
   "source": [
    "annot_comp_fcells <- annot_comp[-c(which(annot_comp$tissue_zone == 'Cells - Cultured fibroblasts'), which(annot_comp$tissue_zone == 'Cells - EBV-transformed lymphocytes')),]\n",
    "pathvals_fcells <- pathvals[,annot_comp[-c(which(annot_comp$tissue_zone == 'Cells - Cultured fibroblasts'), which(annot_comp$tissue_zone == 'Cells - EBV-transformed lymphocytes')),\"patients\"]]\n",
    "\n",
    "physiological_paths <- read.table(\"/mnt/lustre/scratch/CBRA/research/projects/heterogeneity_mm/data/physiological_paths.tsv\", sep=\"\\t\") \n",
    "pathvals_fcells_phys <- pathvals_fcells[unlist(lapply(physiological_paths$V1, FUN=function(x) grep(x,rownames(pathvals_fcells)))),]"
   ]
  },
  {
   "cell_type": "code",
   "execution_count": 94,
   "id": "b162c794-9ade-4c6a-aa24-07366703121c",
   "metadata": {},
   "outputs": [
    {
     "name": "stderr",
     "output_type": "stream",
     "text": [
      "\u001b[1m\u001b[22m`summarise()` has grouped output by 'sex'. You can override using the `.groups`\n",
      "argument.\n"
     ]
    }
   ],
   "source": [
    "tissues_common <- data.frame(annot_comp_fcells %>% group_by(sex, tissue) %>% summarise(n=n()) %>% filter(n>2) %>%\n",
    "group_by(tissue) %>% summarise(n=n()) %>% filter(n==2))$tissue"
   ]
  },
  {
   "cell_type": "code",
   "execution_count": 95,
   "id": "08498116-7dac-462e-bd79-fc87a5bc8bde",
   "metadata": {},
   "outputs": [],
   "source": [
    "### clustering"
   ]
  },
  {
   "cell_type": "code",
   "execution_count": 98,
   "id": "dddce769-38e3-4e6b-9da8-54409ec4612f",
   "metadata": {},
   "outputs": [
    {
     "data": {
      "text/html": [
       "<strong>png:</strong> 2"
      ],
      "text/latex": [
       "\\textbf{png:} 2"
      ],
      "text/markdown": [
       "**png:** 2"
      ],
      "text/plain": [
       "png \n",
       "  2 "
      ]
     },
     "metadata": {},
     "output_type": "display_data"
    }
   ],
   "source": [
    "annot_comp_fcells_female <- annot_comp_fcells %>% filter(sex == \"female\")\n",
    "#tissues_female <- unique(annot_comp_fcells_female$tissue)\n",
    "\n",
    "pathvals_mean_female <- as.data.frame(lapply(tissues_common, function(x) apply(pathvals_fcells_phys[,annot_comp_fcells_female[which(annot_comp_fcells_female$tissue == x),\"patients\"]], 1, mean)))\n",
    "colnames(pathvals_mean_female) <- tissues_common\n",
    "rownames(pathvals_mean_female) <- rownames(pathvals_fcells_phys)      \n",
    "\n",
    "jpeg(\"/mnt/lustre/scratch/CBRA/research/projects/heterogeneity_mm/results/04_comparation_sex_in_tissues/cluster_comparation_sex_female_tissues.jpeg\", quality = 100, width = 600, height = 400)                                                                                                                                     \n",
    "dist_female <- dist(t(pathvals_mean_female),method=\"euclidean\")\n",
    "hc1_female <- hclust(dist_female, method = \"complete\" )\n",
    "fviz_dend(hc1_male, cex = 0.8, k=5, \n",
    "          rect = TRUE,  \n",
    "          k_colors = \"aaas\",\n",
    "          rect_border = \"aaas\", \n",
    "          rect_fill = TRUE, \n",
    "          horiz = TRUE, main=NULL) \n",
    "#plot(hc1_female, col = \"#487AA1\", col.main = \"#45ADA8\", col.lab = \"#7C8071\", cex = 1,\n",
    "#    col.axis = \"#F38630\", lwd = 2, lty = 2, sub = \"\", hang = -1, axes = FALSE, main=\"\")                                                                                          \n",
    "dev.off()                                             "
   ]
  },
  {
   "cell_type": "code",
   "execution_count": 99,
   "id": "858cbfa8-1d31-462b-b5c8-2b73316cd43f",
   "metadata": {},
   "outputs": [
    {
     "data": {
      "text/html": [
       "<strong>png:</strong> 2"
      ],
      "text/latex": [
       "\\textbf{png:} 2"
      ],
      "text/markdown": [
       "**png:** 2"
      ],
      "text/plain": [
       "png \n",
       "  2 "
      ]
     },
     "metadata": {},
     "output_type": "display_data"
    }
   ],
   "source": [
    "annot_comp_fcells_male <- annot_comp_fcells %>% filter(sex == \"male\")\n",
    "#tissues_male <- unique(annot_comp_fcells_male$tissue)\n",
    "\n",
    "pathvals_mean_male <- as.data.frame(lapply(tissues_common, function(x) apply(pathvals_fcells_phys[,annot_comp_fcells_male[which(annot_comp_fcells_male$tissue == x),\"patients\"]], 1, mean)))\n",
    "colnames(pathvals_mean_male) <- tissues_common\n",
    "rownames(pathvals_mean_male) <- rownames(pathvals_fcells_phys)      \n",
    "\n",
    "jpeg(\"/mnt/lustre/scratch/CBRA/research/projects/heterogeneity_mm/results/04_comparation_sex_in_tissues/cluster_comparation_sex_male_tissues.jpeg\", quality = 100, width = 600, height = 400)                                                                                                                                                                                \n",
    "dist_male <- dist(t(pathvals_mean_male),method=\"euclidean\")\n",
    "hc1_male <- hclust(dist_male, method = \"complete\" )\n",
    "#plot(hc1_male, col = \"#487AA1\", col.main = \"#45ADA8\", col.lab = \"#7C8071\", cex = 1,\n",
    "#    col.axis = \"#F38630\", lwd = 2, lty = 2, sub = \"\", hang = -1, axes = FALSE, main=\"\")                                                                                          \n",
    "fviz_dend(hc1_male, cex = 0.8, k=5, \n",
    "          rect = TRUE,  \n",
    "          k_colors = \"aaas\",\n",
    "          rect_border = \"aaas\", \n",
    "          rect_fill = TRUE, \n",
    "          horiz = TRUE, main=NULL)                                            \n",
    "dev.off()                                           "
   ]
  },
  {
   "cell_type": "code",
   "execution_count": 10,
   "id": "0be38e34-35e7-4623-b51c-5ea77894f7ed",
   "metadata": {},
   "outputs": [],
   "source": [
    "### limma"
   ]
  },
  {
   "cell_type": "code",
   "execution_count": 11,
   "id": "d383799e-c289-4076-a81a-3b92798a45cd",
   "metadata": {},
   "outputs": [
    {
     "name": "stderr",
     "output_type": "stream",
     "text": [
      "Warning message:\n",
      "“Zero sample variances detected, have been offset away from zero”\n",
      "Warning message:\n",
      "“Zero sample variances detected, have been offset away from zero”\n",
      "Warning message:\n",
      "“Zero sample variances detected, have been offset away from zero”\n",
      "Warning message:\n",
      "“Zero sample variances detected, have been offset away from zero”\n",
      "Warning message:\n",
      "“Zero sample variances detected, have been offset away from zero”\n"
     ]
    }
   ],
   "source": [
    "limma_funct <- function(x){\n",
    "    pathvals <- pathvals_fcells_phys[,annot_comp_fcells[x == annot_comp_fcells$tissue,\"patients\"]]\n",
    "    type <- annot_comp_fcells[which(x== annot_comp_fcells$tissue),\"sex\"]\n",
    "    design <- model.matrix(~type)\n",
    "    fit <- lmFit(pathvals, design)\n",
    "    fit2 <- eBayes(fit)\n",
    "    top_table <- topTable(fit2, number = Inf, p.value = 1, coef = \"typemale\", adjust=\"fdr\")\n",
    "    top_table$tissue <- rep(x, length(rownames(top_table)))\n",
    "    top_table$circ <- rownames(top_table)\n",
    "    return(top_table)\n",
    "}\n",
    "\n",
    "limma_sex_tissue <- do.call(rbind,lapply(tissues_common, FUN=function(x) limma_funct(x)))\n",
    "limma_sex_tissue_sign <- limma_sex_tissue[limma_sex_tissue$adj.P.Val < 0.05,]           "
   ]
  },
  {
   "cell_type": "code",
   "execution_count": 33,
   "id": "68963d8e-690c-4511-abdc-52b80e55094d",
   "metadata": {},
   "outputs": [],
   "source": [
    "heatmap_fc <- limma_sex_tissue_sign %>% ggplot(aes(x= tissue, y = circ, fill = logFC)) +\n",
    "  geom_tile() + scale_fill_gradient2(name=\"logFC\",low=\"darkred\",mid=\"white\",\n",
    "    high = \"darkgreen\",\n",
    "    na.value = \"\") +\n",
    "  scale_x_discrete(name=\"Tissues\",expand = expansion(mult = c(0,0)), guide = guide_axis(angle = 45)) + theme(axis.text.y= element_text(size=7),axis.text.x= element_text(size=15)) + \n",
    "scale_y_discrete(name=\"Physiological circuits\") + ggtitle(\"\") + theme_bw()                                                      "
   ]
  },
  {
   "cell_type": "code",
   "execution_count": 32,
   "id": "e7698f2c-ec8b-4f4f-98c8-ff6e69ad7493",
   "metadata": {},
   "outputs": [
    {
     "data": {
      "text/html": [
       "<strong>png:</strong> 2"
      ],
      "text/latex": [
       "\\textbf{png:} 2"
      ],
      "text/markdown": [
       "**png:** 2"
      ],
      "text/plain": [
       "png \n",
       "  2 "
      ]
     },
     "metadata": {},
     "output_type": "display_data"
    }
   ],
   "source": [
    "jpeg(\"/mnt/lustre/scratch/CBRA/research/projects/heterogeneity_mm/results/04_comparation_sex_in_tissues/heatmap_comparation_sex_tissues.jpeg\", quality = 100, width = 500, height = 1000)                                                                                                                                    \n",
    "print(heatmap_fc)\n",
    "dev.off()"
   ]
  },
  {
   "cell_type": "code",
   "execution_count": null,
   "id": "1f68e332-93ac-4632-be1b-46b5d26ef40a",
   "metadata": {},
   "outputs": [],
   "source": [
    "### gene belogns circuits in sexual chromosomes"
   ]
  },
  {
   "cell_type": "code",
   "execution_count": 46,
   "id": "bea010ad-cb54-4f30-91d0-9d892c7c5160",
   "metadata": {},
   "outputs": [
    {
     "name": "stderr",
     "output_type": "stream",
     "text": [
      "Loaded 146 pathways\n",
      "\n"
     ]
    }
   ],
   "source": [
    "library(hipathia)\n",
    "library(AnnotationDbi)\n",
    "library(org.Hs.eg.db)\n",
    "\n",
    "## dataframe for each gene belong to pathway.\n",
    "\n",
    "pathways <- load_pathways(\"hsa\")\n",
    "names_circs <- names(pathways$pathigraphs)\n",
    "# extrac genes from a pathways\n",
    "f_extract_genes <- function(j){\n",
    "\n",
    "\tgenes <- unique(na.omit(unlist(V(getElement(get_element, j))$genesList)))\n",
    "\tgenes_clean <- genes[genes != \"/\" & genes != \"NA\"]\n",
    "\treturn(genes_clean)\n",
    "}\n",
    "\n",
    "# join every genes of every path\n",
    "genes_com <- c()\n",
    "circs_com <- c()\n",
    "df <- c()\n",
    "\n",
    "for (i in 1:length(names_circs)){\n",
    "\tx <- names_circs[i]\n",
    "\tget_element <- getElement(pathways$pathigraphs,x)$effector.subgraphs\n",
    "\n",
    "\tlist_path_genes <- sapply(names(get_element), f_extract_genes)\n",
    "\n",
    "\tgenes <- paste(do.call(c, list_path_genes)) \n",
    "\tcircs <- paste(do.call(c,sapply(1:length(list_path_genes), FUN=function(z) rep(names(list_path_genes)[z], length(list_path_genes[[z]])))))\t\n",
    "\tgenes_com <- c(genes_com, genes)\n",
    "\tcircs_com <- c(circs_com, circs)\t\n",
    "}\n",
    "\n",
    "\n",
    "circ_genes <- data.frame(circs = circs_com, genes = genes_com)"
   ]
  },
  {
   "cell_type": "code",
   "execution_count": 47,
   "id": "91dd36d2-7352-49ca-a2a4-6bb0d5fa9e7c",
   "metadata": {},
   "outputs": [],
   "source": [
    "circ_genes$names_circs <- get_path_names(pathways, df_circ_genes$circs)"
   ]
  },
  {
   "cell_type": "code",
   "execution_count": 100,
   "id": "9a665f0a-4ecf-4b4d-9d97-0cc66be8ecf7",
   "metadata": {},
   "outputs": [],
   "source": [
    "gene_circs_sign_tiss <- merge(limma_sex_tissue_sign[,c(\"circ\",\"tissue\")], circ_genes, by.x=\"circ\", by.y=\"names_circs\")"
   ]
  },
  {
   "cell_type": "code",
   "execution_count": 101,
   "id": "31cb7e91-458d-419a-b7b3-e4eaa30872dd",
   "metadata": {},
   "outputs": [
    {
     "name": "stderr",
     "output_type": "stream",
     "text": [
      "Warning message in rbind(...):\n",
      "“number of columns of result is not a multiple of vector length (arg 477)”\n",
      "'select()' returned many:1 mapping between keys and columns\n",
      "\n"
     ]
    }
   ],
   "source": [
    "x <- org.Hs.egCHR\n",
    "mapped_genes <- mappedkeys(x)\n",
    "xx <- as.list(x[mapped_genes])\n",
    "gen_chrom <- as.data.frame(do.call(rbind, xx))\n",
    "gen_chrom$gen <- rownames(gen_chrom)\n",
    "\n",
    "gene_chr_circs_sign_tiss <- merge(gene_circs_sign_tiss, gen_chrom, by.x=\"genes\",by.y=\"gen\")\n",
    "gene_chr_circs_sign_tiss$genename <- AnnotationDbi::select(org.Hs.eg.db, keys=paste(gene_chr_circs_sign_tiss$genes), columns=c(\"SYMBOL\"),keytype=\"ENTREZID\")$SYMBOL"
   ]
  },
  {
   "cell_type": "code",
   "execution_count": 104,
   "id": "1bf40228-e9ee-4257-8a75-92130a5d3870",
   "metadata": {},
   "outputs": [],
   "source": [
    "gene_chr_circs_sign_tiss <- as.data.frame(gene_chr_circs_sign_tiss %>% filter(V1==\"X\" | V2==\"X\"| V3==\"X\" | V1==\"Y\" | V2==\"Y\"| V3==\"Y\") %>% \n",
    "mutate(chr = case_when(V1 == \"X\" & V2 == \"X\" & V3 == \"X\" ~ \"X\",\n",
    "                       V1 == \"X\" & V2 == \"Y\" & V3 == \"X\" ~ \"X,Y\",\n",
    "                       V1 == \"Y\" & V2 == \"Y\" & V3 == \"Y\" ~ \"Y\",\n",
    "                       V1 == \"Y\" & V2 == \"X\" & V3 == \"X\" ~ \"X,Y\",\n",
    "                       V1 == \"X\" & V2 == \"X\" & V3 == \"Y\" ~ \"X,Y\",\n",
    "                       V1 == \"X\" & V2 == \"Y\" & V3 == \"Y\" ~ \"X,Y\",\n",
    "                       V1 == \"Y\" & V2 == \"X\" & V3 == \"Y\" ~ \"X,Y\",\n",
    "                       V1 == \"Y\" & V2 == \"Y\" & V3 == \"X\" ~ \"X,Y\")))[,c(\"genename\", \"circ\", \"tissue\", \"chr\")]\n"
   ]
  },
  {
   "cell_type": "code",
   "execution_count": 112,
   "id": "ca10b7a2-c5bc-4b3c-90ab-01a09ba948fc",
   "metadata": {},
   "outputs": [
    {
     "data": {
      "text/html": [
       "<style>\n",
       ".list-inline {list-style: none; margin:0; padding: 0}\n",
       ".list-inline>li {display: inline-block}\n",
       ".list-inline>li:not(:last-child)::after {content: \"\\00b7\"; padding: 0 .5ex}\n",
       "</style>\n",
       "<ol class=list-inline><li>'Breast'</li><li>'Heart'</li><li>'Brain'</li></ol>\n"
      ],
      "text/latex": [
       "\\begin{enumerate*}\n",
       "\\item 'Breast'\n",
       "\\item 'Heart'\n",
       "\\item 'Brain'\n",
       "\\end{enumerate*}\n"
      ],
      "text/markdown": [
       "1. 'Breast'\n",
       "2. 'Heart'\n",
       "3. 'Brain'\n",
       "\n",
       "\n"
      ],
      "text/plain": [
       "[1] \"Breast\" \"Heart\"  \"Brain\" "
      ]
     },
     "metadata": {},
     "output_type": "display_data"
    }
   ],
   "source": [
    "unique(gene_chr_circs_sign_tiss$tissue)"
   ]
  },
  {
   "cell_type": "code",
   "execution_count": 114,
   "id": "f6e6b0be-9ba6-476b-b015-c03836fd9e84",
   "metadata": {},
   "outputs": [
    {
     "data": {
      "text/html": [
       "<table class=\"dataframe\">\n",
       "<caption>A tibble: 12 × 2</caption>\n",
       "<thead>\n",
       "\t<tr><th scope=col>paths</th><th scope=col>n</th></tr>\n",
       "\t<tr><th scope=col>&lt;chr&gt;</th><th scope=col>&lt;int&gt;</th></tr>\n",
       "</thead>\n",
       "<tbody>\n",
       "\t<tr><td>Calcium signaling pathway                                </td><td> 2</td></tr>\n",
       "\t<tr><td>Dopaminergic synapse                                     </td><td> 1</td></tr>\n",
       "\t<tr><td>Endocrine and other factor-regulated calcium reabsorption</td><td> 1</td></tr>\n",
       "\t<tr><td>GABAergic synapse                                        </td><td> 3</td></tr>\n",
       "\t<tr><td>HIF-1 signaling pathway                                  </td><td> 2</td></tr>\n",
       "\t<tr><td>Hippo signaling pathway                                  </td><td> 4</td></tr>\n",
       "\t<tr><td>Insulin secretion                                        </td><td> 1</td></tr>\n",
       "\t<tr><td>Oxytocin signaling pathway                               </td><td> 1</td></tr>\n",
       "\t<tr><td>Rap1 signaling pathway                                   </td><td>20</td></tr>\n",
       "\t<tr><td>Wnt signaling pathway                                    </td><td> 3</td></tr>\n",
       "\t<tr><td>cAMP signaling pathway                                   </td><td> 2</td></tr>\n",
       "\t<tr><td>cGMP-PKG signaling pathway                               </td><td> 2</td></tr>\n",
       "</tbody>\n",
       "</table>\n"
      ],
      "text/latex": [
       "A tibble: 12 × 2\n",
       "\\begin{tabular}{ll}\n",
       " paths & n\\\\\n",
       " <chr> & <int>\\\\\n",
       "\\hline\n",
       "\t Calcium signaling pathway                                 &  2\\\\\n",
       "\t Dopaminergic synapse                                      &  1\\\\\n",
       "\t Endocrine and other factor-regulated calcium reabsorption &  1\\\\\n",
       "\t GABAergic synapse                                         &  3\\\\\n",
       "\t HIF-1 signaling pathway                                   &  2\\\\\n",
       "\t Hippo signaling pathway                                   &  4\\\\\n",
       "\t Insulin secretion                                         &  1\\\\\n",
       "\t Oxytocin signaling pathway                                &  1\\\\\n",
       "\t Rap1 signaling pathway                                    & 20\\\\\n",
       "\t Wnt signaling pathway                                     &  3\\\\\n",
       "\t cAMP signaling pathway                                    &  2\\\\\n",
       "\t cGMP-PKG signaling pathway                                &  2\\\\\n",
       "\\end{tabular}\n"
      ],
      "text/markdown": [
       "\n",
       "A tibble: 12 × 2\n",
       "\n",
       "| paths &lt;chr&gt; | n &lt;int&gt; |\n",
       "|---|---|\n",
       "| Calcium signaling pathway                                 |  2 |\n",
       "| Dopaminergic synapse                                      |  1 |\n",
       "| Endocrine and other factor-regulated calcium reabsorption |  1 |\n",
       "| GABAergic synapse                                         |  3 |\n",
       "| HIF-1 signaling pathway                                   |  2 |\n",
       "| Hippo signaling pathway                                   |  4 |\n",
       "| Insulin secretion                                         |  1 |\n",
       "| Oxytocin signaling pathway                                |  1 |\n",
       "| Rap1 signaling pathway                                    | 20 |\n",
       "| Wnt signaling pathway                                     |  3 |\n",
       "| cAMP signaling pathway                                    |  2 |\n",
       "| cGMP-PKG signaling pathway                                |  2 |\n",
       "\n"
      ],
      "text/plain": [
       "   paths                                                     n \n",
       "1  Calcium signaling pathway                                  2\n",
       "2  Dopaminergic synapse                                       1\n",
       "3  Endocrine and other factor-regulated calcium reabsorption  1\n",
       "4  GABAergic synapse                                          3\n",
       "5  HIF-1 signaling pathway                                    2\n",
       "6  Hippo signaling pathway                                    4\n",
       "7  Insulin secretion                                          1\n",
       "8  Oxytocin signaling pathway                                 1\n",
       "9  Rap1 signaling pathway                                    20\n",
       "10 Wnt signaling pathway                                      3\n",
       "11 cAMP signaling pathway                                     2\n",
       "12 cGMP-PKG signaling pathway                                 2"
      ]
     },
     "metadata": {},
     "output_type": "display_data"
    }
   ],
   "source": [
    "gene_chr_circs_sign_tiss$paths <- unlist(lapply(strsplit(gene_chr_circs_sign_tiss$circ,\":\", fixed=T), FUN=function(x) x[1]))\n",
    "gene_chr_circs_sign_tiss %>% filter(tissue==\"Breast\") %>% group_by(paths) %>% summarise(n=n())"
   ]
  },
  {
   "cell_type": "code",
   "execution_count": 105,
   "id": "a56c73d9-1d5c-4975-82d0-e27d3f5711d0",
   "metadata": {},
   "outputs": [],
   "source": [
    "write.csv(gene_chr_circs_sign_tiss,file=\"/mnt/lustre/scratch/CBRA/research/projects/heterogeneity_mm/results/04_comparation_sex_in_tissues/table_genes_belong_circ_dif_comparation_sex_in_tissues.csv\", row.names=F)"
   ]
  }
 ],
 "metadata": {
  "kernelspec": {
   "display_name": "R",
   "language": "R",
   "name": "ir"
  },
  "language_info": {
   "codemirror_mode": "r",
   "file_extension": ".r",
   "mimetype": "text/x-r-source",
   "name": "R",
   "pygments_lexer": "r",
   "version": "4.3.2"
  }
 },
 "nbformat": 4,
 "nbformat_minor": 5
}
